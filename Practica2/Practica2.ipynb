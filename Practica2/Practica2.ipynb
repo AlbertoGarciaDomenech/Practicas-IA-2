{
 "cells": [
  {
   "cell_type": "markdown",
   "metadata": {},
   "source": [
    "# **Practica 2**\n",
    "#### _Alberto García Doménech - Pablo Daurell Marina_ (Grupo 10)\n",
    "***"
   ]
  },
  {
   "cell_type": "markdown",
   "metadata": {},
   "source": [
    "## Parte 1 (Análisis de sentimiento)"
   ]
  },
  {
   "cell_type": "code",
   "execution_count": 1,
   "metadata": {},
   "outputs": [],
   "source": [
    "import pandas as pd"
   ]
  },
  {
   "cell_type": "code",
   "execution_count": 2,
   "metadata": {},
   "outputs": [],
   "source": [
    "df = pd.read_csv(\"yelp_labelled.txt\", sep='\\t', names=['Data', 'Target'])\n",
    "data = df.to_numpy()[:, 0]\n",
    "target = df.to_numpy()[:, 1]\n",
    "target = target.astype('int')"
   ]
  },
  {
   "cell_type": "code",
   "execution_count": 53,
   "metadata": {},
   "outputs": [
    {
     "name": "stdout",
     "output_type": "stream",
     "text": [
      "Wow... Loved this place. 1\n",
      "Crust is not good. 0\n",
      "Not tasty and the texture was just nasty. 0\n",
      "Stopped by during the late May bank holiday off Rick Steve recommendation and loved it. 1\n",
      "The selection on the menu was great and so were the prices. 1\n",
      "Now I am getting angry and I want my damn pho. 0\n",
      "Honeslty it didn't taste THAT fresh.) 0\n",
      "The potatoes were like rubber and you could tell they had been made up ahead of time being kept under a warmer. 0\n",
      "The fries were great too. 1\n",
      "A great touch. 1\n"
     ]
    }
   ],
   "source": [
    "for i in range(10):\n",
    "    print(data[i], target[i])"
   ]
  },
  {
   "cell_type": "code",
   "execution_count": 5,
   "metadata": {},
   "outputs": [],
   "source": [
    "from sklearn.model_selection import train_test_split\n",
    "\n",
    "train_data, test_data, train_target, test_target = train_test_split(data, target, test_size=0.25, random_state=0)"
   ]
  },
  {
   "cell_type": "code",
   "execution_count": 6,
   "metadata": {},
   "outputs": [
    {
     "name": "stdout",
     "output_type": "stream",
     "text": [
      "Training size:  750\n",
      "Test size:  250\n"
     ]
    }
   ],
   "source": [
    "print(\"Training size: \", train_data.size)\n",
    "print(\"Test size: \", test_data.size)"
   ]
  },
  {
   "cell_type": "code",
   "execution_count": 7,
   "metadata": {},
   "outputs": [],
   "source": [
    "import numpy as np\n",
    "import numpy.ma as ma\n",
    "\n",
    "def write_terms (feature_names, data, vector_data, index):\n",
    "    '''\n",
    "    Escribe los términos presentes en un mensaje representado como bolsa de palabras.\n",
    "    \n",
    "    - feature_names: terminos usados para vectorizar\n",
    "    - data: lista de mensajes original (si data==None no se muestra el mensaje original)\n",
    "    - vector_data: matriz (dispersa) de mensaje vectorizados\n",
    "    - index: posición del mensaje a mostrar\n",
    "    '''\n",
    "    # máscara para seleccionar sólo el mensaje en posición index\n",
    "    mask=vector_data[index,:]>0\n",
    "    \n",
    "    # términos que aparecen en ese mensaje vectorizado\n",
    "    terminos = ma.array(feature_names, mask = ~(mask[0].toarray()))\n",
    "    \n",
    "    # mostrar mensaje original\n",
    "    if data.any():\n",
    "        print('Mensaje', index, ':', data[index])\n",
    "    \n",
    "    # mostrar términos que aparecen en el mensaje vectorizado\n",
    "    print('Mensaje', index, 'vectorizado:', terminos.compressed(),'\\n')"
   ]
  },
  {
   "cell_type": "markdown",
   "metadata": {},
   "source": [
    "## A) Bolsas de palabras"
   ]
  },
  {
   "cell_type": "code",
   "execution_count": 8,
   "metadata": {},
   "outputs": [],
   "source": [
    "# Diccionario vacío para ir guardando los resultados de cada clasificador\n",
    "rates = {}"
   ]
  },
  {
   "cell_type": "code",
   "execution_count": 9,
   "metadata": {},
   "outputs": [],
   "source": [
    "from sklearn.feature_extraction.text import CountVectorizer\n",
    "from sklearn.feature_extraction.text import TfidfTransformer"
   ]
  },
  {
   "cell_type": "markdown",
   "metadata": {},
   "source": [
    "### 1. Bolsa de palabras binaria y n-gramas (1,1) "
   ]
  },
  {
   "cell_type": "markdown",
   "metadata": {},
   "source": [
    "Creamos una bolsa de palabras con monogramas (solo tenemos en cuenta la probabilidad de una palabra, independientemente del resto) y que tenga en cuenta si una palabra aparece o no:"
   ]
  },
  {
   "cell_type": "code",
   "execution_count": 10,
   "metadata": {},
   "outputs": [
    {
     "name": "stdout",
     "output_type": "stream",
     "text": [
      "1510\n"
     ]
    }
   ],
   "source": [
    "vectorizer = CountVectorizer(stop_words='english', binary=True, ngram_range = (1,1)) \n",
    "train_vector_data = vectorizer.fit_transform(train_data)\n",
    "\n",
    "feature_names = vectorizer.get_feature_names()\n",
    "print(len(feature_names))"
   ]
  },
  {
   "cell_type": "markdown",
   "metadata": {},
   "source": [
    "Ajustamos los datos de test al modelo de bolsa de palabra que acabamos de crear:"
   ]
  },
  {
   "cell_type": "code",
   "execution_count": 11,
   "metadata": {},
   "outputs": [
    {
     "name": "stdout",
     "output_type": "stream",
     "text": [
      "(250, 1510)\n"
     ]
    }
   ],
   "source": [
    "test_vector_data = vectorizer.transform(test_data)\n",
    "print(test_vector_data.shape)"
   ]
  },
  {
   "cell_type": "markdown",
   "metadata": {},
   "source": [
    "Con ayuda de la función ```write_terms```, previamente definida, podemos ver algunos ejemplos de como se han vectorizado los mensajes:"
   ]
  },
  {
   "cell_type": "code",
   "execution_count": 12,
   "metadata": {},
   "outputs": [
    {
     "name": "stdout",
     "output_type": "stream",
     "text": [
      "Mensaje 1 : And the chef was generous with his time (even came around twice so we can take pictures with him).\n",
      "Mensaje 1 vectorizado: ['came' 'chef' 'generous' 'pictures' 'time' 'twice'] \n",
      "\n",
      "Mensaje 10 : The cashew cream sauce was bland and the vegetables were undercooked.\n",
      "Mensaje 10 vectorizado: ['bland' 'cashew' 'cream' 'sauce' 'undercooked' 'vegetables'] \n",
      "\n",
      "Mensaje 100 : Now this dish was quite flavourful.\n",
      "Mensaje 100 vectorizado: ['dish' 'flavourful' 'quite'] \n",
      "\n"
     ]
    }
   ],
   "source": [
    "write_terms(feature_names, train_data, train_vector_data, 1)\n",
    "write_terms(feature_names, train_data, train_vector_data, 10)\n",
    "write_terms(feature_names, train_data, train_vector_data, 100)"
   ]
  },
  {
   "cell_type": "markdown",
   "metadata": {},
   "source": [
    "#### 1.1 Naive Bayes:"
   ]
  },
  {
   "cell_type": "markdown",
   "metadata": {},
   "source": [
    "- Utilizamos un clasificador Naive Bayes Multinomial (Binarizado), que es útil cuando lo que estamos teniendo en cuenta es la aparición de las palabras, independientemente de su frecuencia."
   ]
  },
  {
   "cell_type": "code",
   "execution_count": 13,
   "metadata": {},
   "outputs": [
    {
     "name": "stdout",
     "output_type": "stream",
     "text": [
      "Multinomial Naive Bayes, porcentaje de aciertos en entrenamiento: 0.9573333333333334\n",
      "Multinomial Naive Bayes, porcentaje de aciertos en test: 0.728\n"
     ]
    }
   ],
   "source": [
    "from sklearn.naive_bayes import MultinomialNB\n",
    "\n",
    "mnb_classifier = MultinomialNB()\n",
    "\n",
    "mnb_classifier.fit(train_vector_data, train_target)\n",
    "\n",
    "mnb_train_predictions = mnb_classifier.predict(train_vector_data)\n",
    "mnb_test_predictions = mnb_classifier.predict(test_vector_data)\n",
    "\n",
    "rates.update({'mnb_binary_monogram': {'Train': np.mean(mnb_train_predictions == train_target),\n",
    "                                'Test' : np.mean(mnb_test_predictions == test_target)}})\n",
    "\n",
    "print(\"Multinomial Naive Bayes, porcentaje de aciertos en entrenamiento:\", rates['mnb_binary_monogram']['Train'])\n",
    "print(\"Multinomial Naive Bayes, porcentaje de aciertos en test:\", rates['mnb_binary_monogram']['Test'])"
   ]
  },
  {
   "cell_type": "markdown",
   "metadata": {},
   "source": [
    "#### 1.2 Árbol de decisión:"
   ]
  },
  {
   "cell_type": "markdown",
   "metadata": {},
   "source": [
    "- Probamos distintos valores para el parámetro ```max_depth```para encontrar el que maximice el porcentaje de aciertos en entrnamiento:"
   ]
  },
  {
   "cell_type": "code",
   "execution_count": 14,
   "metadata": {},
   "outputs": [],
   "source": [
    "from sklearn import tree\n",
    "\n",
    "train_accuracy = []\n",
    "test_accuracy = []\n",
    "\n",
    "max_depths = range(2, 60)\n",
    "for md in max_depths: \n",
    "    # Entrenar y validar\n",
    "    tree_classifier = tree.DecisionTreeClassifier(criterion=\"entropy\", max_depth=md, min_samples_split=2)\n",
    "    tree_classifier.fit(train_vector_data, train_target)\n",
    "                        \n",
    "    tree_train_predictions = tree_classifier.predict(train_vector_data)\n",
    "    tree_test_predictions = tree_classifier.predict(test_vector_data)    \n",
    "    \n",
    "    train_accuracy.append(np.mean(tree_train_predictions == train_target))\n",
    "    test_accuracy.append(np.mean(tree_test_predictions == test_target))"
   ]
  },
  {
   "cell_type": "code",
   "execution_count": 15,
   "metadata": {},
   "outputs": [
    {
     "data": {
      "text/plain": [
       "<Figure size 640x480 with 1 Axes>"
      ]
     },
     "metadata": {},
     "output_type": "display_data"
    }
   ],
   "source": [
    "import matplotlib.pyplot as plt\n",
    "\n",
    "# Draw lines\n",
    "plt.plot(max_depths, train_accuracy, color=\"r\",  label=\"Training\")\n",
    "plt.plot(max_depths, test_accuracy, color=\"g\", label=\"Test\")\n",
    "\n",
    "# Create plot\n",
    "plt.title(\"Curva de aprendizaje\")\n",
    "plt.xlabel(\"Parametro\"), plt.ylabel(\"Accuracy Score\"), plt.legend(loc=\"best\")\n",
    "plt.tight_layout()\n",
    "plt.show()   "
   ]
  },
  {
   "cell_type": "markdown",
   "metadata": {},
   "source": [
    "- Vemos que con un ```max_depth``` cercano a **39** obtenemos el mejor porcentaje de aciertos en test y un buen porcentaje de aciertos en entrenamiento.   \n",
    "- Entrenamos un árbol de decisión con este valor:"
   ]
  },
  {
   "cell_type": "code",
   "execution_count": 16,
   "metadata": {},
   "outputs": [
    {
     "name": "stdout",
     "output_type": "stream",
     "text": [
      "Árbol, porcentaje de aciertos en entrenamiento: 0.896\n",
      "Árbol, porcentaje de aciertos en test: 0.708\n"
     ]
    }
   ],
   "source": [
    "from sklearn import tree\n",
    "\n",
    "tree_classifier = tree.DecisionTreeClassifier(max_depth = 39, random_state=0)\n",
    "tree_classifier.fit(train_vector_data, train_target)\n",
    "\n",
    "tree_train_predictions = tree_classifier.predict(train_vector_data)\n",
    "tree_test_predictions = tree_classifier.predict(test_vector_data)\n",
    "\n",
    "rates.update({'tree_binary_monogram': {'Train': np.mean(tree_train_predictions == train_target),\n",
    "                                'Test' : np.mean(tree_test_predictions == test_target)}})\n",
    "\n",
    "print(\"Árbol, porcentaje de aciertos en entrenamiento:\", rates['tree_binary_monogram']['Train'])\n",
    "print(\"Árbol, porcentaje de aciertos en test:\", rates['tree_binary_monogram']['Test'])"
   ]
  },
  {
   "cell_type": "markdown",
   "metadata": {},
   "source": [
    "### 2. Bolsa de palabras con TF-IDF y n-gramas (1,1)"
   ]
  },
  {
   "cell_type": "markdown",
   "metadata": {},
   "source": [
    "Creamos una bolsa de palabras con monogramas (solo tenemos en cuenta la probabilidad de una palabra, independientemente del resto) y que tenga en cuenta la frecuencia de aparición:"
   ]
  },
  {
   "cell_type": "code",
   "execution_count": 17,
   "metadata": {},
   "outputs": [
    {
     "name": "stdout",
     "output_type": "stream",
     "text": [
      "1510\n"
     ]
    }
   ],
   "source": [
    "vectorizer = CountVectorizer(stop_words='english', binary=False, ngram_range = (1,1))\n",
    "train_vector_data = vectorizer.fit_transform(train_data)\n",
    "\n",
    "feature_names = vectorizer.get_feature_names()\n",
    "print(len(feature_names))"
   ]
  },
  {
   "cell_type": "markdown",
   "metadata": {},
   "source": [
    "Una vez generada la bolsa de palabras, convertimos los valores de frecuencia a TF-IDF:"
   ]
  },
  {
   "cell_type": "code",
   "execution_count": 18,
   "metadata": {},
   "outputs": [
    {
     "name": "stdout",
     "output_type": "stream",
     "text": [
      "(750, 1510)\n"
     ]
    }
   ],
   "source": [
    "tfider = TfidfTransformer()\n",
    "train_preprocessed = tfider.fit_transform(train_vector_data)\n",
    "print(train_preprocessed.shape)"
   ]
  },
  {
   "cell_type": "markdown",
   "metadata": {},
   "source": [
    "Ajustamos los datos de test al modelo de bolsa de palabra que acabamos de crear:"
   ]
  },
  {
   "cell_type": "code",
   "execution_count": 19,
   "metadata": {},
   "outputs": [
    {
     "name": "stdout",
     "output_type": "stream",
     "text": [
      "(250, 1510)\n"
     ]
    }
   ],
   "source": [
    "test_vector_data = vectorizer.transform(test_data)\n",
    "test_preprocessed = tfider.transform(test_vector_data)\n",
    "print(test_preprocessed.shape)"
   ]
  },
  {
   "cell_type": "markdown",
   "metadata": {},
   "source": [
    "#### 2.1 Naive Bayes:"
   ]
  },
  {
   "cell_type": "markdown",
   "metadata": {},
   "source": [
    "- Utilizamos un clasificador Naive Bayes Gaussiano, ya que estamos teniendo en cuenta un valor continuo como es el TF-IDF."
   ]
  },
  {
   "cell_type": "code",
   "execution_count": 20,
   "metadata": {},
   "outputs": [],
   "source": [
    "### GaussianNB no trabaja con matrices dispersas\n",
    "### Utilizamos la opción partial_fit pasándole fragmentos de la matriz de datos\n",
    "\n",
    "from sklearn.naive_bayes import GaussianNB\n",
    "\n",
    "gnb_classifier = GaussianNB()\n",
    "\n",
    "chunk_size = 100\n",
    "num_rows = len(train_target)\n",
    "\n",
    "for i in range(0, (num_rows//chunk_size)):\n",
    "    train_chunk = train_preprocessed[i*chunk_size : (i+1)*chunk_size, :].toarray()\n",
    "    target_chunk = train_target[i*chunk_size : (i+1)*chunk_size]\n",
    "    gnb_classifier.partial_fit(train_chunk, target_chunk, classes=np.unique(train_target))"
   ]
  },
  {
   "cell_type": "code",
   "execution_count": 21,
   "metadata": {},
   "outputs": [
    {
     "name": "stdout",
     "output_type": "stream",
     "text": [
      "Gaussian Naive Bayes, porcentaje de aciertos en entrenamiento: 0.9106666666666666\n",
      "Gaussian Naive Bayes, porcentaje de aciertos en test: 0.612\n"
     ]
    }
   ],
   "source": [
    "### GaussianNB no trabaja con matrices disperas, tampoco a la hora de estimar\n",
    "### Vamos a estimar por trozos y después agregar los resultados\n",
    "\n",
    "gnb_train_predictions = np.zeros_like(train_target)\n",
    "gnb_test_predictions = np.zeros_like(test_target)\n",
    "\n",
    "for i in range(0, (num_rows//chunk_size)):\n",
    "    train_chunk = train_preprocessed[i*chunk_size : (i+1)*chunk_size, :].toarray()\n",
    "    gnb_train_predictions[i*chunk_size : (i+1)*chunk_size] = gnb_classifier.predict(train_chunk)\n",
    "    \n",
    "num_rows = len(test_target)\n",
    "for i in range(0, (num_rows//chunk_size)):\n",
    "    test_chunk = test_preprocessed[i*chunk_size : (i+1)*chunk_size, :].toarray()\n",
    "    gnb_test_predictions[i*chunk_size : (i+1)*chunk_size] = gnb_classifier.predict(test_chunk)\n",
    "    \n",
    "    \n",
    "rates.update({'gnb_tfidf_monogram': {'Train': np.mean(gnb_train_predictions == train_target),\n",
    "                                'Test' : np.mean(gnb_test_predictions == test_target)}})\n",
    "    \n",
    "print(\"Gaussian Naive Bayes, porcentaje de aciertos en entrenamiento:\", rates['gnb_tfidf_monogram']['Train'])\n",
    "print(\"Gaussian Naive Bayes, porcentaje de aciertos en test:\", rates['gnb_tfidf_monogram']['Test'])"
   ]
  },
  {
   "cell_type": "markdown",
   "metadata": {},
   "source": [
    "- Este clasificador nos da unos malos resultados porque los datos no siguen una distribución normal, sino que siguen una distribución asimétrica a la derecha: "
   ]
  },
  {
   "cell_type": "code",
   "execution_count": 22,
   "metadata": {},
   "outputs": [
    {
     "data": {
      "text/plain": [
       "<matplotlib.axes._subplots.AxesSubplot at 0x258cc61c808>"
      ]
     },
     "execution_count": 22,
     "metadata": {},
     "output_type": "execute_result"
    },
    {
     "data": {
      "image/png": "[encoded data removed]",
      "text/plain": [
       "<Figure size 432x288 with 1 Axes>"
      ]
     },
     "metadata": {
      "needs_background": "light"
     },
     "output_type": "display_data"
    },
    {
     "data": {
      "image/png": "[encoded data removed]",
      "text/plain": [
       "<Figure size 432x288 with 1 Axes>"
      ]
     },
     "metadata": {
      "needs_background": "light"
     },
     "output_type": "display_data"
    }
   ],
   "source": [
    "import pandas as pd\n",
    "\n",
    "term=pd.DataFrame(data= train_preprocessed[:,381].toarray(), columns=[feature_names[100]])\n",
    "term.plot.hist()\n",
    "\n",
    "term=pd.DataFrame(data= train_preprocessed[:,500].toarray(), columns=[feature_names[500]])\n",
    "term.plot.hist()"
   ]
  },
  {
   "cell_type": "markdown",
   "metadata": {},
   "source": [
    "#### 2.2 Árbol de decisión:"
   ]
  },
  {
   "cell_type": "markdown",
   "metadata": {},
   "source": [
    "- Probamos distintos valores para el parámetro ```max_depth```para encontrar el que maximice el porcentaje de aciertos en entrnamiento:"
   ]
  },
  {
   "cell_type": "code",
   "execution_count": 23,
   "metadata": {},
   "outputs": [],
   "source": [
    "from sklearn import tree\n",
    "\n",
    "train_accuracy = []\n",
    "test_accuracy = []\n",
    "\n",
    "max_depths = range(2, 70)\n",
    "for md in max_depths: \n",
    "    # Entrenar y validar\n",
    "    tree_classifier = tree.DecisionTreeClassifier(criterion=\"entropy\", max_depth=md, min_samples_split=2)\n",
    "    tree_classifier.fit(train_preprocessed, train_target)\n",
    "                        \n",
    "    tree_train_predictions = tree_classifier.predict(train_preprocessed)\n",
    "    tree_test_predictions = tree_classifier.predict(test_preprocessed)    \n",
    "    \n",
    "    train_accuracy.append(np.mean(tree_train_predictions == train_target))\n",
    "    test_accuracy.append(np.mean(tree_test_predictions == test_target))"
   ]
  },
  {
   "cell_type": "code",
   "execution_count": 24,
   "metadata": {},
   "outputs": [
    {
     "data": {
      "image/png": "[encoded data removed]",
      "text/plain": [
       "<Figure size 432x288 with 1 Axes>"
      ]
     },
     "metadata": {
      "needs_background": "light"
     },
     "output_type": "display_data"
    }
   ],
   "source": [
    "import matplotlib.pyplot as plt\n",
    "\n",
    "# Draw lines\n",
    "plt.plot(max_depths, train_accuracy, color=\"r\",  label=\"Training\")\n",
    "plt.plot(max_depths, test_accuracy, color=\"g\", label=\"Test\")\n",
    "\n",
    "# Create plot\n",
    "plt.title(\"Curva de aprendizaje\")\n",
    "plt.xlabel(\"Parametro\"), plt.ylabel(\"Accuracy Score\"), plt.legend(loc=\"best\")\n",
    "plt.tight_layout()\n",
    "plt.show()   "
   ]
  },
  {
   "cell_type": "markdown",
   "metadata": {},
   "source": [
    "- Vemos que con un ```max_depth``` cercano a **17** obtenemos el mejor porcentaje de aciertos en test y un buen porcentaje de aciertos en entrenamiento.   \n",
    "- Entrenamos un árbol de decisión con este valor:"
   ]
  },
  {
   "cell_type": "code",
   "execution_count": 25,
   "metadata": {},
   "outputs": [
    {
     "name": "stdout",
     "output_type": "stream",
     "text": [
      "Árbol, porcentaje de aciertos en entrenamiento: 0.82\n",
      "Árbol, porcentaje de aciertos en test: 0.72\n"
     ]
    }
   ],
   "source": [
    "from sklearn import tree\n",
    "\n",
    "tree_classifier = tree.DecisionTreeClassifier(max_depth = 17, random_state=0)\n",
    "tree_classifier.fit(train_preprocessed, train_target)\n",
    "\n",
    "tree_train_predictions = tree_classifier.predict(train_preprocessed)\n",
    "tree_test_predictions = tree_classifier.predict(test_preprocessed)\n",
    "\n",
    "rates.update({'tree_tfidf_monogram': {'Train': np.mean(tree_train_predictions == train_target),\n",
    "                                'Test' : np.mean(tree_test_predictions == test_target)}})\n",
    "\n",
    "print(\"Árbol, porcentaje de aciertos en entrenamiento:\", rates['tree_tfidf_monogram']['Train'])\n",
    "print(\"Árbol, porcentaje de aciertos en test:\", rates['tree_tfidf_monogram']['Test'])"
   ]
  },
  {
   "cell_type": "markdown",
   "metadata": {},
   "source": [
    "### 3. Bolsa de palabras binarias y n-gramas (1,2)"
   ]
  },
  {
   "cell_type": "markdown",
   "metadata": {},
   "source": [
    "Creamos una bolsa de palabras con bigramas (tenemos en cuenta la probabilidad de una palabra en función de la palabra anterior) y que tenga en cuenta si una palabra aparece o no:"
   ]
  },
  {
   "cell_type": "code",
   "execution_count": 26,
   "metadata": {},
   "outputs": [
    {
     "name": "stdout",
     "output_type": "stream",
     "text": [
      "4347\n"
     ]
    }
   ],
   "source": [
    "vectorizer = CountVectorizer(stop_words='english', binary=True, ngram_range = (1,2)) \n",
    "train_vector_data = vectorizer.fit_transform(train_data)\n",
    "\n",
    "feature_names = vectorizer.get_feature_names()\n",
    "print(len(feature_names))"
   ]
  },
  {
   "cell_type": "markdown",
   "metadata": {},
   "source": [
    "Ajustamos los datos de test al modelo de bolsa de palabra que acabamos de crear:"
   ]
  },
  {
   "cell_type": "code",
   "execution_count": 27,
   "metadata": {},
   "outputs": [
    {
     "name": "stdout",
     "output_type": "stream",
     "text": [
      "(250, 4347)\n"
     ]
    }
   ],
   "source": [
    "test_vector_data = vectorizer.transform(test_data)\n",
    "print(test_vector_data.shape)"
   ]
  },
  {
   "cell_type": "markdown",
   "metadata": {},
   "source": [
    "Con ayuda de la función ```write_terms```, podemos ver algunos ejemplos de como se han vectorizado los mensajes.  \n",
    "> A diferencia de los dos casos anteriores, aquí usamos bigramas. Vemos como eso hace que aumente el número de términos (antes 1510, ahora 4347) y podemos ver en los mensajes vectorizados que ahora algunos terminos constan de dos palabras:"
   ]
  },
  {
   "cell_type": "code",
   "execution_count": 28,
   "metadata": {},
   "outputs": [
    {
     "name": "stdout",
     "output_type": "stream",
     "text": [
      "Mensaje 1 : And the chef was generous with his time (even came around twice so we can take pictures with him).\n",
      "Mensaje 1 vectorizado: ['came' 'came twice' 'chef' 'chef generous' 'generous' 'generous time'\n",
      " 'pictures' 'time' 'time came' 'twice' 'twice pictures'] \n",
      "\n",
      "Mensaje 10 : The cashew cream sauce was bland and the vegetables were undercooked.\n",
      "Mensaje 10 vectorizado: ['bland' 'bland vegetables' 'cashew' 'cashew cream' 'cream' 'cream sauce'\n",
      " 'sauce' 'sauce bland' 'undercooked' 'vegetables' 'vegetables undercooked'] \n",
      "\n",
      "Mensaje 100 : Now this dish was quite flavourful.\n",
      "Mensaje 100 vectorizado: ['dish' 'dish quite' 'flavourful' 'quite' 'quite flavourful'] \n",
      "\n"
     ]
    }
   ],
   "source": [
    "write_terms(feature_names, train_data, train_vector_data, 1)\n",
    "write_terms(feature_names, train_data, train_vector_data, 10)\n",
    "write_terms(feature_names, train_data, train_vector_data, 100)"
   ]
  },
  {
   "cell_type": "markdown",
   "metadata": {},
   "source": [
    "#### 3.1 Naive Bayes:"
   ]
  },
  {
   "cell_type": "markdown",
   "metadata": {},
   "source": [
    "- Utilizamos un clasificador Naive Bayes Multinomial (Binarizado), que es útil cuando lo que estamos teniendo en cuenta es la aparición de las palabras, independientemente de su frecuencia."
   ]
  },
  {
   "cell_type": "code",
   "execution_count": 29,
   "metadata": {},
   "outputs": [
    {
     "name": "stdout",
     "output_type": "stream",
     "text": [
      "Multinomial Naive Bayes, porcentaje de aciertos en entrenamiento: 0.9786666666666667\n",
      "Multinomial Naive Bayes, porcentaje de aciertos en test: 0.732\n"
     ]
    }
   ],
   "source": [
    "from sklearn.naive_bayes import MultinomialNB\n",
    "\n",
    "mnb_classifier = MultinomialNB()\n",
    "\n",
    "mnb_classifier.fit(train_vector_data, train_target)\n",
    "\n",
    "mnb_train_predictions = mnb_classifier.predict(train_vector_data)\n",
    "mnb_test_predictions = mnb_classifier.predict(test_vector_data)\n",
    "\n",
    "rates.update({'mnb_binary_bigram': {'Train': np.mean(mnb_train_predictions == train_target),\n",
    "                                'Test' : np.mean(mnb_test_predictions == test_target)}})\n",
    "\n",
    "print(\"Multinomial Naive Bayes, porcentaje de aciertos en entrenamiento:\",rates['mnb_binary_bigram']['Train'])\n",
    "print(\"Multinomial Naive Bayes, porcentaje de aciertos en test:\", rates['mnb_binary_bigram']['Test'])"
   ]
  },
  {
   "cell_type": "markdown",
   "metadata": {},
   "source": [
    "#### 3.2 Árbol de decisión:"
   ]
  },
  {
   "cell_type": "markdown",
   "metadata": {},
   "source": [
    "- Probamos distintos valores para el parámetro ```max_depth```para encontrar el que maximice el porcentaje de aciertos en entrnamiento:"
   ]
  },
  {
   "cell_type": "code",
   "execution_count": 30,
   "metadata": {},
   "outputs": [],
   "source": [
    "from sklearn import tree\n",
    "\n",
    "train_accuracy = []\n",
    "test_accuracy = []\n",
    "\n",
    "max_depths = range(2, 60)\n",
    "for md in max_depths: \n",
    "    # Entrenar y validar\n",
    "    tree_classifier = tree.DecisionTreeClassifier(criterion=\"entropy\", max_depth=md, min_samples_split=2)\n",
    "    tree_classifier.fit(train_vector_data, train_target)\n",
    "                        \n",
    "    tree_train_predictions = tree_classifier.predict(train_vector_data)\n",
    "    tree_test_predictions = tree_classifier.predict(test_vector_data)    \n",
    "    \n",
    "    train_accuracy.append(np.mean(tree_train_predictions == train_target))\n",
    "    test_accuracy.append(np.mean(tree_test_predictions == test_target))"
   ]
  },
  {
   "cell_type": "code",
   "execution_count": 31,
   "metadata": {},
   "outputs": [
    {
     "data": {
      "image/png": "[encoded data removed]",
      "text/plain": [
       "<Figure size 432x288 with 1 Axes>"
      ]
     },
     "metadata": {
      "needs_background": "light"
     },
     "output_type": "display_data"
    }
   ],
   "source": [
    "import matplotlib.pyplot as plt\n",
    "\n",
    "# Draw lines\n",
    "plt.plot(max_depths, train_accuracy, color=\"r\",  label=\"Training\")\n",
    "plt.plot(max_depths, test_accuracy, color=\"g\", label=\"Test\")\n",
    "\n",
    "# Create plot\n",
    "plt.title(\"Curva de aprendizaje\")\n",
    "plt.xlabel(\"Parametro\"), plt.ylabel(\"Accuracy Score\"), plt.legend(loc=\"best\")\n",
    "plt.tight_layout()\n",
    "plt.show()   "
   ]
  },
  {
   "cell_type": "markdown",
   "metadata": {},
   "source": [
    "- Vemos que con un ```max_depth``` cercano a **38** obtenemos el mejor porcentaje de aciertos en test y un buen porcentaje de aciertos en entrenamiento.   \n",
    "- Entrenamos un árbol de decisión con este valor:"
   ]
  },
  {
   "cell_type": "code",
   "execution_count": 32,
   "metadata": {},
   "outputs": [
    {
     "name": "stdout",
     "output_type": "stream",
     "text": [
      "Árbol, porcentaje de aciertos en entrenamiento: 0.8946666666666667\n",
      "Árbol, porcentaje de aciertos en test: 0.704\n"
     ]
    }
   ],
   "source": [
    "from sklearn import tree\n",
    "\n",
    "tree_classifier = tree.DecisionTreeClassifier(max_depth = 38, random_state=0)\n",
    "tree_classifier.fit(train_vector_data, train_target)\n",
    "\n",
    "tree_train_predictions = tree_classifier.predict(train_vector_data)\n",
    "tree_test_predictions = tree_classifier.predict(test_vector_data)\n",
    "\n",
    "rates.update({'tree_binary_bigram': {'Train': np.mean(tree_train_predictions == train_target),\n",
    "                                'Test' : np.mean(tree_test_predictions == test_target)}})\n",
    "\n",
    "print(\"Árbol, porcentaje de aciertos en entrenamiento:\", rates['tree_binary_bigram']['Train'])\n",
    "print(\"Árbol, porcentaje de aciertos en test:\", rates['tree_binary_bigram']['Test'])"
   ]
  },
  {
   "cell_type": "markdown",
   "metadata": {},
   "source": [
    "### 4. Bolsa de palabras con TF-IDF y n-gramas (1,2)"
   ]
  },
  {
   "cell_type": "markdown",
   "metadata": {},
   "source": [
    "Creamos una bolsa de palabras con bigramas (tenemos en cuenta la probabilidad de una palabra en función de la palabra anterior) y que tenga en cuenta la frecuencia de aparición:"
   ]
  },
  {
   "cell_type": "code",
   "execution_count": 33,
   "metadata": {},
   "outputs": [
    {
     "name": "stdout",
     "output_type": "stream",
     "text": [
      "4347\n"
     ]
    }
   ],
   "source": [
    "vectorizer = CountVectorizer(stop_words='english', binary=False, ngram_range = (1,2))\n",
    "train_vector_data = vectorizer.fit_transform(train_data)\n",
    "\n",
    "feature_names = vectorizer.get_feature_names()\n",
    "print(len(feature_names))"
   ]
  },
  {
   "cell_type": "markdown",
   "metadata": {},
   "source": [
    "Una vez generada la bolsa de palabras, convertimos los valores de frecuencia a TF-IDF:"
   ]
  },
  {
   "cell_type": "code",
   "execution_count": 34,
   "metadata": {},
   "outputs": [
    {
     "name": "stdout",
     "output_type": "stream",
     "text": [
      "(750, 4347)\n"
     ]
    }
   ],
   "source": [
    "tfider = TfidfTransformer()\n",
    "train_preprocessed = tfider.fit_transform(train_vector_data)\n",
    "print(train_preprocessed.shape)"
   ]
  },
  {
   "cell_type": "markdown",
   "metadata": {},
   "source": [
    "Ajustamos los datos de test al modelo de bolsa de palabra que acabamos de crear:"
   ]
  },
  {
   "cell_type": "code",
   "execution_count": 35,
   "metadata": {},
   "outputs": [
    {
     "name": "stdout",
     "output_type": "stream",
     "text": [
      "(250, 4347)\n"
     ]
    }
   ],
   "source": [
    "test_vector_data = vectorizer.transform(test_data)\n",
    "test_preprocessed = tfider.transform(test_vector_data)\n",
    "print(test_preprocessed.shape)"
   ]
  },
  {
   "cell_type": "markdown",
   "metadata": {},
   "source": [
    "#### 4.1 Naive Bayes:"
   ]
  },
  {
   "cell_type": "markdown",
   "metadata": {},
   "source": [
    "- Utilizamos un clasificador Naive Bayes Gaussiano, ya que estamos teniendo en cuenta un valor continuo como es el TF-IDF."
   ]
  },
  {
   "cell_type": "code",
   "execution_count": 36,
   "metadata": {},
   "outputs": [],
   "source": [
    "### GaussianNB no trabaja con matrices dispersas\n",
    "### Utilizamos la opción partial_fit pasándole fragmentos de la matriz de datos\n",
    "\n",
    "from sklearn.naive_bayes import GaussianNB\n",
    "\n",
    "gnb_classifier = GaussianNB()\n",
    "\n",
    "chunk_size = 100\n",
    "num_rows = len(train_target)\n",
    "\n",
    "for i in range(0, (num_rows//chunk_size)):\n",
    "    train_chunk = train_preprocessed[i*chunk_size : (i+1)*chunk_size, :].toarray()\n",
    "    target_chunk = train_target[i*chunk_size : (i+1)*chunk_size]\n",
    "    gnb_classifier.partial_fit(train_chunk, target_chunk, classes=np.unique(train_target))"
   ]
  },
  {
   "cell_type": "code",
   "execution_count": 37,
   "metadata": {},
   "outputs": [
    {
     "name": "stdout",
     "output_type": "stream",
     "text": [
      "Gaussian Naive Bayes, porcentaje de aciertos en entrenamiento: 0.9346666666666666\n",
      "Gaussian Naive Bayes, porcentaje de aciertos en test: 0.616\n"
     ]
    }
   ],
   "source": [
    "### GaussianNB no trabaja con matrices disperas, tampoco a la hora de estimar\n",
    "### Vamos a estimar por trozos y después agregar los resultados\n",
    "\n",
    "gnb_train_predictions = np.zeros_like(train_target)\n",
    "gnb_test_predictions = np.zeros_like(test_target)\n",
    "\n",
    "for i in range(0, (num_rows//chunk_size)):\n",
    "    train_chunk = train_preprocessed[i*chunk_size : (i+1)*chunk_size, :].toarray()\n",
    "    gnb_train_predictions[i*chunk_size : (i+1)*chunk_size] = gnb_classifier.predict(train_chunk)\n",
    "    \n",
    "num_rows = len(test_target)\n",
    "for i in range(0, (num_rows//chunk_size)):\n",
    "    test_chunk = test_preprocessed[i*chunk_size : (i+1)*chunk_size, :].toarray()\n",
    "    gnb_test_predictions[i*chunk_size : (i+1)*chunk_size] = gnb_classifier.predict(test_chunk)\n",
    "    \n",
    "rates.update({'gnb_tfidf_bigram': {'Train': np.mean(gnb_train_predictions == train_target),\n",
    "                                'Test' : np.mean(gnb_test_predictions == test_target)}})    \n",
    "\n",
    "print(\"Gaussian Naive Bayes, porcentaje de aciertos en entrenamiento:\", rates['gnb_tfidf_bigram']['Train'])\n",
    "print(\"Gaussian Naive Bayes, porcentaje de aciertos en test:\", rates['gnb_tfidf_bigram']['Test'])"
   ]
  },
  {
   "cell_type": "markdown",
   "metadata": {},
   "source": [
    "- Este clasificador nos da unos malos resultados porque los datos no siguen una distribución normal, sino que siguen una distribución asimétrica a la derecha: "
   ]
  },
  {
   "cell_type": "code",
   "execution_count": 38,
   "metadata": {},
   "outputs": [
    {
     "data": {
      "text/plain": [
       "<matplotlib.axes._subplots.AxesSubplot at 0x258cc935388>"
      ]
     },
     "execution_count": 38,
     "metadata": {},
     "output_type": "execute_result"
    },
    {
     "data": {
      "image/png": "[encoded data removed]",
      "text/plain": [
       "<Figure size 432x288 with 1 Axes>"
      ]
     },
     "metadata": {
      "needs_background": "light"
     },
     "output_type": "display_data"
    },
    {
     "data": {
      "image/png": "[encoded data removed]",
      "text/plain": [
       "<Figure size 432x288 with 1 Axes>"
      ]
     },
     "metadata": {
      "needs_background": "light"
     },
     "output_type": "display_data"
    }
   ],
   "source": [
    "import pandas as pd\n",
    "\n",
    "term=pd.DataFrame(data= train_preprocessed[:,381].toarray(), columns=[feature_names[100]])\n",
    "term.plot.hist()\n",
    "\n",
    "term=pd.DataFrame(data= train_preprocessed[:,500].toarray(), columns=[feature_names[500]])\n",
    "term.plot.hist()"
   ]
  },
  {
   "cell_type": "markdown",
   "metadata": {},
   "source": [
    "#### 4.2 Árbol de decisión:"
   ]
  },
  {
   "cell_type": "markdown",
   "metadata": {},
   "source": [
    "- Probamos distintos valores para el parámetro ```max_depth```para encontrar el que maximice el porcentaje de aciertos en entrnamiento:"
   ]
  },
  {
   "cell_type": "code",
   "execution_count": 39,
   "metadata": {},
   "outputs": [],
   "source": [
    "from sklearn import tree\n",
    "\n",
    "train_accuracy = []\n",
    "test_accuracy = []\n",
    "\n",
    "max_depths = range(2, 70)\n",
    "for md in max_depths: \n",
    "    # Entrenar y validar\n",
    "    tree_classifier = tree.DecisionTreeClassifier(criterion=\"entropy\", max_depth=md, min_samples_split=2)\n",
    "    tree_classifier.fit(train_preprocessed, train_target)\n",
    "                        \n",
    "    tree_train_predictions = tree_classifier.predict(train_preprocessed)\n",
    "    tree_test_predictions = tree_classifier.predict(test_preprocessed)    \n",
    "    \n",
    "    train_accuracy.append(np.mean(tree_train_predictions == train_target))\n",
    "    test_accuracy.append(np.mean(tree_test_predictions == test_target))"
   ]
  },
  {
   "cell_type": "code",
   "execution_count": 40,
   "metadata": {},
   "outputs": [
    {
     "data": {
      "image/png": "[encoded data removed]",
      "text/plain": [
       "<Figure size 432x288 with 1 Axes>"
      ]
     },
     "metadata": {
      "needs_background": "light"
     },
     "output_type": "display_data"
    }
   ],
   "source": [
    "import matplotlib.pyplot as plt\n",
    "\n",
    "# Draw lines\n",
    "plt.plot(max_depths, train_accuracy, color=\"r\",  label=\"Training\")\n",
    "plt.plot(max_depths, test_accuracy, color=\"g\", label=\"Test\")\n",
    "\n",
    "# Create plot\n",
    "plt.title(\"Curva de aprendizaje\")\n",
    "plt.xlabel(\"Parametro\"), plt.ylabel(\"Accuracy Score\"), plt.legend(loc=\"best\")\n",
    "plt.tight_layout()\n",
    "plt.show()   "
   ]
  },
  {
   "cell_type": "markdown",
   "metadata": {},
   "source": [
    "- Vemos que con un ```max_depth``` cercano a **17** obtenemos el mejor porcentaje de aciertos en test y un buen porcentaje de aciertos en entrenamiento.   \n",
    "- Entrenamos un árbol de decisión con este valor:"
   ]
  },
  {
   "cell_type": "code",
   "execution_count": 41,
   "metadata": {},
   "outputs": [
    {
     "name": "stdout",
     "output_type": "stream",
     "text": [
      "Árbol, porcentaje de aciertos en entrenamiento: 0.82\n",
      "Árbol, porcentaje de aciertos en test: 0.72\n"
     ]
    }
   ],
   "source": [
    "from sklearn import tree\n",
    "\n",
    "tree_classifier = tree.DecisionTreeClassifier(max_depth = 17, random_state=0)\n",
    "tree_classifier.fit(train_preprocessed, train_target)\n",
    "\n",
    "tree_train_predictions = tree_classifier.predict(train_preprocessed)\n",
    "tree_test_predictions = tree_classifier.predict(test_preprocessed)\n",
    "\n",
    "rates.update({'tree_tfidf_bigram': {'Train': np.mean(tree_train_predictions == train_target),\n",
    "                                'Test' : np.mean(tree_test_predictions == test_target)}})\n",
    "\n",
    "print(\"Árbol, porcentaje de aciertos en entrenamiento:\", rates['tree_tfidf_bigram']['Train'])\n",
    "print(\"Árbol, porcentaje de aciertos en test:\", rates['tree_tfidf_bigram']['Test'])"
   ]
  },
  {
   "cell_type": "markdown",
   "metadata": {},
   "source": [
    "### Comparación:"
   ]
  },
  {
   "cell_type": "markdown",
   "metadata": {},
   "source": [
    "- Comprobamos los porcentajes de aciertos para cada conficuración elegida:"
   ]
  },
  {
   "cell_type": "code",
   "execution_count": 43,
   "metadata": {},
   "outputs": [
    {
     "name": "stdout",
     "output_type": "stream",
     "text": [
      "mnb_binary_monogram {'Train': 0.9573333333333334, 'Test': 0.728}\n",
      "tree_binary_monogram {'Train': 0.896, 'Test': 0.708}\n",
      "----------------------\n",
      "gnb_tfidf_monogram {'Train': 0.9106666666666666, 'Test': 0.612}\n",
      "tree_tfidf_monogram {'Train': 0.82, 'Test': 0.72}\n",
      "----------------------\n",
      "mnb_binary_bigram {'Train': 0.9786666666666667, 'Test': 0.732}\n",
      "tree_binary_bigram {'Train': 0.8946666666666667, 'Test': 0.704}\n",
      "----------------------\n",
      "gnb_tfidf_bigram {'Train': 0.9346666666666666, 'Test': 0.616}\n",
      "tree_tfidf_bigram {'Train': 0.82, 'Test': 0.72}\n",
      "----------------------\n"
     ]
    }
   ],
   "source": [
    "i = 0\n",
    "for a, b in rates.items():\n",
    "    print(a, b)\n",
    "    if(i%2 != 0):\n",
    "        print('----------------------')\n",
    "    i = i + 1"
   ]
  },
  {
   "cell_type": "markdown",
   "metadata": {},
   "source": [
    " #### ¿Hay un clasificador que sea superior al otro? ¿por qué crees que sucede?##\n"
   ]
  },
  {
   "cell_type": "markdown",
   "metadata": {},
   "source": [
    "Podemos observar que los diferentes resultados de test no varian demasiado entre clasificadores, aunque obtenemos los mejores resultados con el clasificador naive bayes (73,2% y 72,8%)"
   ]
  },
  {
   "cell_type": "markdown",
   "metadata": {},
   "source": [
    "#### Para cada clasificador, ¿tiene un efecto positivo el añadir “complejidad” a la vectorización? Es decir, añadir bigramas y añadir tf-idf. ¿Por qué crees que sucede este efecto positivo o la falta del mismo? ###"
   ]
  },
  {
   "cell_type": "markdown",
   "metadata": {},
   "source": [
    "Para el clasificador Naive Bayes hay una ligera mejoría (+0,4%) si aumentamos la complejidad de los n-gramas pero vemos un descenso en los resultados de test si cambiamos la frecuencia binaria por la tfdif (-11,6%), esto se debe a como funciona el clasificador naive bayes ya que (TERMINAR)\n",
    "\n",
    "En cambio los arboles de decision empeoran en resultados de test si añadimos bigrama (usando frecuencia binaria desciende un 0,4% y con frecuencia tfidf no varia en resultados), sin embargo vemos que añadiendo tfidf conseguimos los mismos resultados, que a la vez son los mejores obtenidos por el arbol, dando igual la complejidad de los n-gramas. Este efecto positivo se debe a a que los arboles de decision pueden elegir variables con mayor poder discriminante si escogen palabras con una frecuencia no binaria.\n",
    "\n",
    "Podemos concluir que podemos mejorar los resultados si aumentamos la complejidad de los n-gramas en bayes y la de la frecuencia en los arboles"
   ]
  },
  {
   "cell_type": "markdown",
   "metadata": {},
   "source": [
    "#### Selecciona el mejor árbol de decisión y obtén las 25 variables con más poder discriminante: ¿Predominan más las palabras de uno u otro sentimiento? ¿por qué? ¿hay ruido? ###"
   ]
  },
  {
   "cell_type": "markdown",
   "metadata": {},
   "source": [
    "Seleccionamos cualquiera de los dos arboles de decision que tengan en cuenta la frecuencia TF/IDF, en este caso cogemos el arbol de decision con bigramas"
   ]
  },
  {
   "cell_type": "code",
   "execution_count": 48,
   "metadata": {},
   "outputs": [
    {
     "data": {
      "image/png": "[encoded data removed]",
      "text/plain": [
       "<Figure size 432x288 with 1 Axes>"
      ]
     },
     "metadata": {
      "needs_background": "light"
     },
     "output_type": "display_data"
    }
   ],
   "source": [
    "from sklearn.tree import plot_tree\n",
    "import matplotlib.pyplot as plt\n",
    "\n",
    "vectorizer = CountVectorizer(stop_words='english', binary=False, ngram_range = (1,2))\n",
    "train_vector_data = vectorizer.fit_transform(train_data)\n",
    "\n",
    "feature_names = vectorizer.get_feature_names()\n",
    "tfider = TfidfTransformer()\n",
    "train_preprocessed = tfider.fit_transform(train_vector_data)\n",
    "test_vector_data = vectorizer.transform(test_data)\n",
    "test_preprocessed = tfider.transform(test_vector_data)\n",
    "\n",
    "tree_classifier = tree.DecisionTreeClassifier(max_depth = 17, random_state=0)\n",
    "tree_classifier.fit(train_preprocessed, train_target)\n",
    "\n",
    "plot_tree(tree_classifier, max_depth = 17)\n",
    "plt.savefig('./delete.pdf')"
   ]
  },
  {
   "cell_type": "code",
   "execution_count": 49,
   "metadata": {},
   "outputs": [
    {
     "name": "stdout",
     "output_type": "stream",
     "text": [
      "Top 20 features in the tree\n",
      "\n",
      "great good amazing best delicious friendly nice fantastic loved perfect love awesome happy restaurant excellent enjoyed definitely good way lovers let quickly\n"
     ]
    }
   ],
   "source": [
    "def print_top20_features_in_trees(vectorizer, clf):\n",
    "    \"\"\"Prints features with the highest coefficient values\"\"\"\n",
    "    feature_names = vectorizer.get_feature_names()\n",
    "    \n",
    "    top20 = np.argsort(clf.feature_importances_)[-20:]\n",
    "    reversed_top = top20[::-1]\n",
    "    print(\"Top 20 features in the tree\\n\")\n",
    "    print(\"%s\" % ( \" \".join(feature_names[j] for j in reversed_top)))\n",
    "\n",
    "print_top20_features_in_trees(vectorizer,tree_classifier)"
   ]
  },
  {
   "cell_type": "markdown",
   "metadata": {},
   "source": [
    "Claramente predeominan las palabras de sentimiento positivo, esto se puede deber a que la presencia de cualquiera de las "
   ]
  }
 ],
 "metadata": {
  "kernelspec": {
   "display_name": "Python 3",
   "language": "python",
   "name": "python3"
  },
  "language_info": {
   "codemirror_mode": {
    "name": "ipython",
    "version": 3
   },
   "file_extension": ".py",
   "mimetype": "text/x-python",
   "name": "python",
   "nbconvert_exporter": "python",
   "pygments_lexer": "ipython3",
   "version": "3.7.4"
  }
 },
 "nbformat": 4,
 "nbformat_minor": 4
}
